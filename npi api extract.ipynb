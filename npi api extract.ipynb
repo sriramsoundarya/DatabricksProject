{
 "cells": [
  {
   "cell_type": "code",
   "execution_count": 0,
   "metadata": {
    "application/vnd.databricks.v1+cell": {
     "cellMetadata": {
      "byteLimit": 2048000,
      "rowLimit": 10000
     },
     "inputWidgets": {},
     "nuid": "569c35c2-2663-461a-a91a-3e11dbb8c86a",
     "showTitle": false,
     "tableResultSettingsMap": {},
     "title": ""
    }
   },
   "outputs": [],
   "source": [
    "import requests\n",
    "from datetime import date\n"
   ]
  },
  {
   "cell_type": "code",
   "execution_count": 0,
   "metadata": {
    "application/vnd.databricks.v1+cell": {
     "cellMetadata": {
      "byteLimit": 2048000,
      "rowLimit": 10000
     },
     "inputWidgets": {},
     "nuid": "f848291d-a932-4c48-b5c9-03c64cfca95b",
     "showTitle": false,
     "tableResultSettingsMap": {},
     "title": ""
    }
   },
   "outputs": [],
   "source": [
    "base_url=\"https://npiregistry.cms.hhs.gov/api/\"\n",
    "params = {\n",
    "    \"version\":\"2.1\",\n",
    "    \"state\":\"CA\",\n",
    "    \"city\":\"Los Angeles\",\n",
    "    \"limit\":20\n",
    "}"
   ]
  },
  {
   "cell_type": "code",
   "execution_count": 0,
   "metadata": {
    "application/vnd.databricks.v1+cell": {
     "cellMetadata": {
      "byteLimit": 2048000,
      "rowLimit": 10000
     },
     "inputWidgets": {},
     "nuid": "3f348ae1-e852-470b-911e-48f4113b9784",
     "showTitle": false,
     "tableResultSettingsMap": {},
     "title": ""
    }
   },
   "outputs": [],
   "source": [
    "response=requests.get(base_url,params)"
   ]
  },
  {
   "cell_type": "code",
   "execution_count": 0,
   "metadata": {
    "application/vnd.databricks.v1+cell": {
     "cellMetadata": {
      "byteLimit": 2048000,
      "rowLimit": 10000
     },
     "inputWidgets": {},
     "nuid": "6a3153d0-918b-4913-80c2-9a85e8abcdf6",
     "showTitle": false,
     "tableResultSettingsMap": {},
     "title": ""
    }
   },
   "outputs": [],
   "source": [
    "response=response.json()"
   ]
  },
  {
   "cell_type": "code",
   "execution_count": 0,
   "metadata": {
    "application/vnd.databricks.v1+cell": {
     "cellMetadata": {
      "byteLimit": 2048000,
      "rowLimit": 10000
     },
     "inputWidgets": {},
     "nuid": "3bda78a1-1ad7-48ce-bc84-de7f500a075d",
     "showTitle": false,
     "tableResultSettingsMap": {},
     "title": ""
    }
   },
   "outputs": [],
   "source": [
    "npi_list=[result[\"number\"] for result in response.get(\"results\",[])]\n"
   ]
  },
  {
   "cell_type": "code",
   "execution_count": 0,
   "metadata": {
    "application/vnd.databricks.v1+cell": {
     "cellMetadata": {
      "byteLimit": 2048000,
      "rowLimit": 10000
     },
     "inputWidgets": {},
     "nuid": "b729ed59-d803-4611-b8fa-2ce385ee4186",
     "showTitle": false,
     "tableResultSettingsMap": {},
     "title": ""
    }
   },
   "outputs": [],
   "source": [
    "current_date=date.today()"
   ]
  },
  {
   "cell_type": "code",
   "execution_count": 0,
   "metadata": {
    "application/vnd.databricks.v1+cell": {
     "cellMetadata": {
      "byteLimit": 2048000,
      "rowLimit": 10000
     },
     "inputWidgets": {},
     "nuid": "3ea9c734-c5e6-4c58-94df-da0344ddf29f",
     "showTitle": false,
     "tableResultSettingsMap": {},
     "title": ""
    }
   },
   "outputs": [],
   "source": [
    "for npi in npi_list:\n",
    "    detailed_results=[]\n",
    "    new_param={\n",
    "        \"version\":\"2.1\",\n",
    "        \"number\": npi,\n",
    "    }\n",
    "    response=requests.get(base_url,new_param)\n",
    "    response=response.json()\n",
    "    details=response.get(\"results\",[])\n",
    "    for detail in details:\n",
    "        npi_number=detail.get(\"number\",\"\")\n",
    "        basic_info=detail.get(\"basic\",{})\n",
    "        if detail.get(\"enumeration_type\",\"\")==\"NPI-1\":\n",
    "            fname=basic_info.get(\"first_name\",\"\")\n",
    "            lname=basic_info.get(\"last_name\",\"\")\n",
    "        else:\n",
    "            fname=basic_info.get(\"authorized_official_first_name\",\"\")\n",
    "            lname=basic_info.get(\"authorized_official_last_name\",\"\")\n",
    "        position=(\n",
    "            basic_info.get(\"authorized_official_title_or_position\") \n",
    "            if \"authorized_official_title_or_position\" in \n",
    "            basic_info.get(\"authorized_official_title_or_position\")\n",
    "            else \"\")\n",
    "        organisation=basic_info.get(\"organization_name\",\"\")\n",
    "        last_updated=basic_info.get(\"last_updated\",\"\")\n",
    "        detailed_results.append(\n",
    "                        {\n",
    "                            \"npi_id\": npi_number,\n",
    "                            \"first_name\": fname,\n",
    "                            \"last_name\": lname,\n",
    "                            \"position\": position,\n",
    "                            \"organisation_name\": organisation,\n",
    "                            \"last_updated\": last_updated,\n",
    "                            \"refreshed_at\": current_date,\n",
    "                        }\n",
    "                    )\n",
    "        \n",
    "    "
   ]
  },
  {
   "cell_type": "code",
   "execution_count": 0,
   "metadata": {
    "application/vnd.databricks.v1+cell": {
     "cellMetadata": {
      "byteLimit": 2048000,
      "rowLimit": 10000
     },
     "inputWidgets": {},
     "nuid": "84af7759-84e6-400c-92f2-4207f3add5a4",
     "showTitle": false,
     "tableResultSettingsMap": {},
     "title": ""
    }
   },
   "outputs": [],
   "source": [
    "if detailed_results:\n",
    "    print(detailed_results)\n",
    "    df=spark.createDataFrame(detailed_results)\n",
    "    df.write.format(\"parquet\").mode(\"overwrite\").save(\"/mnt/bronze/npi_codes\")"
   ]
  },
  {
   "cell_type": "code",
   "execution_count": 0,
   "metadata": {
    "application/vnd.databricks.v1+cell": {
     "cellMetadata": {
      "byteLimit": 2048000,
      "rowLimit": 10000
     },
     "inputWidgets": {},
     "nuid": "4fe36f03-2fc6-4326-9228-8f6e7d94be31",
     "showTitle": false,
     "tableResultSettingsMap": {},
     "title": ""
    }
   },
   "outputs": [],
   "source": []
  }
 ],
 "metadata": {
  "application/vnd.databricks.v1+notebook": {
   "computePreferences": null,
   "dashboards": [],
   "environmentMetadata": {
    "base_environment": "",
    "client": "1"
   },
   "language": "python",
   "notebookMetadata": {
    "pythonIndentUnit": 4
   },
   "notebookName": "npi api extract",
   "widgets": {}
  },
  "language_info": {
   "name": "python"
  }
 },
 "nbformat": 4,
 "nbformat_minor": 0
}
