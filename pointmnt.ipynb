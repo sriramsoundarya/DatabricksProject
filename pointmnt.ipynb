{
 "cells": [
  {
   "cell_type": "code",
   "execution_count": 0,
   "metadata": {
    "application/vnd.databricks.v1+cell": {
     "cellMetadata": {
      "byteLimit": 2048000,
      "rowLimit": 10000
     },
     "inputWidgets": {},
     "nuid": "a380e3c1-1006-444c-a639-966401879d89",
     "showTitle": false,
     "tableResultSettingsMap": {},
     "title": ""
    }
   },
   "outputs": [],
   "source": [
    "# # Databricks notebook source\n",
    "# storageAccountName = \"healthcaresacc\"\n",
    "# # storageAccountAccessKey = dbutils.secrets.get('sckey', 'kvsckey')\n",
    "# storageAccountAccessKey = \"\"\n",
    "# mountPoints=[\"gold\",\"silver\",\"bronze\",\"landing\",\"configs\"]\n",
    "# for mountPoint in mountPoints:\n",
    "#     if not any(mount.mountPoint == f\"/mnt/{mountPoint}\" for mount in dbutils.fs.mounts()):\n",
    "#         try:\n",
    "#             dbutils.fs.mount(\n",
    "#             source = \"wasbs://{}@{}.blob.core.windows.net\".format(mountPoint, storageAccountName),\n",
    "#             mount_point = f\"/mnt/{mountPoint}\",\n",
    "#             extra_configs = {'fs.azure.account.key.' + storageAccountName + '.blob.core.windows.net': storageAccountAccessKey}\n",
    "#             )\n",
    "#             print(f\"{mountPoint} mount succeeded!\")\n",
    "#         except Exception as e:\n",
    "#             print(\"mount exception\", e)\n",
    "\n",
    "# # COMMAND ----------\n",
    "\n",
    "# dbutils.fs.mounts()"
   ]
  },
  {
   "cell_type": "code",
   "execution_count": 0,
   "metadata": {
    "application/vnd.databricks.v1+cell": {
     "cellMetadata": {},
     "inputWidgets": {},
     "nuid": "726cb48b-2d11-4954-abfd-fabac43429c8",
     "showTitle": false,
     "tableResultSettingsMap": {},
     "title": ""
    }
   },
   "outputs": [],
   "source": []
  }
 ],
 "metadata": {
  "application/vnd.databricks.v1+notebook": {
   "computePreferences": null,
   "dashboards": [],
   "environmentMetadata": {
    "base_environment": "",
    "client": "1"
   },
   "language": "python",
   "notebookMetadata": {
    "pythonIndentUnit": 4
   },
   "notebookName": "pointmnt",
   "widgets": {}
  },
  "language_info": {
   "name": "python"
  }
 },
 "nbformat": 4,
 "nbformat_minor": 0
}
